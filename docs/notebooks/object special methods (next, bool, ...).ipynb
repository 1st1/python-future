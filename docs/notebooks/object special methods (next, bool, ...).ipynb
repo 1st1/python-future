{
 "metadata": {
  "name": ""
 },
 "nbformat": 3,
 "nbformat_minor": 0,
 "worksheets": [
  {
   "cells": [
    {
     "cell_type": "heading",
     "level": 2,
     "metadata": {},
     "source": [
      "``object`` special methods"
     ]
    },
    {
     "cell_type": "code",
     "collapsed": false,
     "input": [
      "import sys\n",
      "sys.version"
     ],
     "language": "python",
     "metadata": {},
     "outputs": [
      {
       "metadata": {},
       "output_type": "pyout",
       "prompt_number": 4,
       "text": [
        "'2.7.6 |Continuum Analytics, Inc.| (default, Jan 17 2014, 10:13:17) \\n[GCC 4.1.2 20080704 (Red Hat 4.1.2-54)]'"
       ]
      }
     ],
     "prompt_number": 4
    },
    {
     "cell_type": "code",
     "collapsed": false,
     "input": [
      "from future.builtins import object"
     ],
     "language": "python",
     "metadata": {},
     "outputs": [],
     "prompt_number": 1
    },
    {
     "cell_type": "code",
     "collapsed": false,
     "input": [
      "object??"
     ],
     "language": "python",
     "metadata": {},
     "outputs": [],
     "prompt_number": 2
    },
    {
     "cell_type": "code",
     "collapsed": false,
     "input": [
      "# Py3-style iterators written as new-style classes (subclasses of\n",
      "# future.builtins.object) are backward compatibile with Py2:\n",
      "class Upper(object):\n",
      "    def __init__(self, iterable):\n",
      "        self._iter = iter(iterable)\n",
      "    def __next__(self):                 # note the Py3 interface\n",
      "        return next(self._iter).upper()\n",
      "    def __iter__(self):\n",
      "        return self\n",
      "\n",
      "assert list(Upper('hello')) == list('HELLO')"
     ],
     "language": "python",
     "metadata": {},
     "outputs": [],
     "prompt_number": 3
    },
    {
     "cell_type": "code",
     "collapsed": false,
     "input": [],
     "language": "python",
     "metadata": {},
     "outputs": []
    }
   ],
   "metadata": {}
  }
 ]
}